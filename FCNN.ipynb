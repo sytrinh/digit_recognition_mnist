{
  "nbformat": 4,
  "nbformat_minor": 0,
  "metadata": {
    "colab": {
      "name": "FCC",
      "provenance": [],
      "collapsed_sections": [],
      "authorship_tag": "ABX9TyNwFIUOf1BkPs55SG43QAGq",
      "include_colab_link": true
    },
    "kernelspec": {
      "name": "python3",
      "display_name": "Python 3"
    },
    "language_info": {
      "name": "python"
    }
  },
  "cells": [
    {
      "cell_type": "markdown",
      "metadata": {
        "id": "view-in-github",
        "colab_type": "text"
      },
      "source": [
        "<a href=\"https://colab.research.google.com/github/sytrinh/digit_recognition_mnist/blob/main/FCNN.ipynb\" target=\"_parent\"><img src=\"https://colab.research.google.com/assets/colab-badge.svg\" alt=\"Open In Colab\"/></a>"
      ]
    },
    {
      "cell_type": "markdown",
      "source": [
        "We will train a model to correctly identify digits from 0 to 9 using the MNIST dataset. The model consists of fully connected layers and is trained using:\n",
        "1. Keras\n",
        "2. Only TensorFlow"
      ],
      "metadata": {
        "id": "DFGK6oStawd8"
      }
    },
    {
      "cell_type": "code",
      "source": [
        "from tensorflow.keras.datasets import mnist\n",
        "import numpy as np\n",
        "import matplotlib.pyplot as plt\n"
      ],
      "metadata": {
        "id": "2FGange9sfl3"
      },
      "execution_count": null,
      "outputs": []
    },
    {
      "cell_type": "markdown",
      "source": [
        "## Understand and preprocess the data"
      ],
      "metadata": {
        "id": "9wPlH4qgwP1T"
      }
    },
    {
      "cell_type": "code",
      "source": [
        "\n",
        "(train_images, train_labels), (test_images, test_labels) = mnist.load_data()\n",
        "unique_labels = np.unique(train_labels)\n",
        "\n",
        "print('Training set shape: {}'.format(train_images.shape))\n",
        "print('Test set shape: {}'.format(test_images.shape))\n",
        "print('Number of images in training set: {}'.format(train_images.shape[0]))\n",
        "print('Number of images in test set: {}'.format(test_images.shape[0]))\n",
        "print('Image size: {}'.format(train_images.shape[1:]))\n",
        "print('Unique labels: {}'.format(unique_labels))\n",
        "print('Number of unique labels: {}'.format(len(np.unique(train_labels))))"
      ],
      "metadata": {
        "colab": {
          "base_uri": "https://localhost:8080/"
        },
        "id": "-IHk0qa3wFPU",
        "outputId": "2d11e0fe-451d-47e2-8d8e-eec934c294f1"
      },
      "execution_count": null,
      "outputs": [
        {
          "output_type": "stream",
          "name": "stdout",
          "text": [
            "Training set shape: (60000, 28, 28)\n",
            "Test set shape: (10000, 28, 28)\n",
            "Number of images in training set: 60000\n",
            "Number of images in test set: 10000\n",
            "Image size: (28, 28)\n",
            "Unique labels: [0 1 2 3 4 5 6 7 8 9]\n",
            "Number of unique labels: 10\n"
          ]
        }
      ]
    },
    {
      "cell_type": "code",
      "source": [
        "img_idx = 10\n",
        "image = train_images[img_idx]\n",
        "plt.imshow(image)\n",
        "plt.show()\n",
        "\n",
        "print('Corresponding label: {}'.format(train_labels[img_idx]))"
      ],
      "metadata": {
        "colab": {
          "base_uri": "https://localhost:8080/",
          "height": 282
        },
        "id": "gohYMAdLuY2U",
        "outputId": "39ea3c42-f994-42a7-8576-a3295956e634"
      },
      "execution_count": null,
      "outputs": [
        {
          "output_type": "display_data",
          "data": {
            "text/plain": [
              "<Figure size 432x288 with 1 Axes>"
            ],
            "image/png": "[encoded data removed]"
          },
          "metadata": {
            "needs_background": "light"
          }
        },
        {
          "output_type": "stream",
          "name": "stdout",
          "text": [
            "Corresponding label: 3\n"
          ]
        }
      ]
    },
    {
      "cell_type": "markdown",
      "source": [
        "Since we're going to use a neural network with fully connected layers (FCL), images need to be reshaped to become a 1D array. As a result, training set will become a 2D array of size `(examples, width*height)`. We should also scale the data so that all values are in the `[0,1]` interval. "
      ],
      "metadata": {
        "id": "zTV7dSxU0x_3"
      }
    },
    {
      "cell_type": "code",
      "source": [
        "x_train = train_images.reshape((train_images.shape[0], -1))\n",
        "x_train = x_train.astype(\"float32\") / 255\n",
        "x_test = test_images.reshape((test_images.shape[0], -1))\n",
        "x_test = x_test.astype(\"float32\") / 255\n",
        "\n",
        "print('x_train shape: {}'.format(x_train.shape))\n",
        "print('x_test shape: {}'.format(x_test.shape))"
      ],
      "metadata": {
        "colab": {
          "base_uri": "https://localhost:8080/"
        },
        "id": "s1Z0xDhuydjS",
        "outputId": "8c2c3f00-58ea-4a17-965b-435c4d46a6b0"
      },
      "execution_count": null,
      "outputs": [
        {
          "output_type": "stream",
          "name": "stdout",
          "text": [
            "x_train shape: (60000, 784)\n",
            "x_test shape: (10000, 784)\n"
          ]
        }
      ]
    },
    {
      "cell_type": "code",
      "source": [
        "y_train = train_labels\n",
        "y_test = test_labels"
      ],
      "metadata": {
        "id": "lvtj7D462jUt"
      },
      "execution_count": null,
      "outputs": []
    },
    {
      "cell_type": "markdown",
      "source": [
        "## Train a model using Keras"
      ],
      "metadata": {
        "id": "_9nLbzvQ6wZx"
      }
    },
    {
      "cell_type": "code",
      "source": [
        "from tensorflow.keras import layers\n",
        "from tensorflow import keras\n",
        "\n",
        "model = keras.Sequential([\n",
        "                          layers.Dense(512, activation='relu'),\n",
        "                          layers.Dense(10, activation='softmax')])\n",
        "\n",
        "optimizer = keras.optimizers.SGD(learning_rate=1e-3)  # Gradient descent (with momentum) optimizer.\n",
        "model.compile(loss='sparse_categorical_crossentropy',\n",
        "              optimizer=optimizer,\n",
        "              metrics=['accuracy'])\n",
        "\n",
        "history = model.fit(x_train, y_train, \n",
        "                    epochs=10, batch_size=128, verbose=1)"
      ],
      "metadata": {
        "id": "Dh-cdvuS5216",
        "colab": {
          "base_uri": "https://localhost:8080/"
        },
        "outputId": "18159ffb-0cab-48e7-f30c-0bcaf8a12222"
      },
      "execution_count": null,
      "outputs": [
        {
          "output_type": "stream",
          "name": "stdout",
          "text": [
            "Epoch 1/10\n",
            "469/469 [==============================] - 5s 9ms/step - loss: 2.0936 - accuracy: 0.3594\n",
            "Epoch 2/10\n",
            "469/469 [==============================] - 3s 6ms/step - loss: 1.6864 - accuracy: 0.6755\n",
            "Epoch 3/10\n",
            "469/469 [==============================] - 3s 6ms/step - loss: 1.3812 - accuracy: 0.7494\n",
            "Epoch 4/10\n",
            "469/469 [==============================] - 3s 6ms/step - loss: 1.1587 - accuracy: 0.7837\n",
            "Epoch 5/10\n",
            "469/469 [==============================] - 3s 6ms/step - loss: 1.0005 - accuracy: 0.8065\n",
            "Epoch 6/10\n",
            "469/469 [==============================] - 3s 6ms/step - loss: 0.8867 - accuracy: 0.8214\n",
            "Epoch 7/10\n",
            "469/469 [==============================] - 3s 6ms/step - loss: 0.8026 - accuracy: 0.8322\n",
            "Epoch 8/10\n",
            "469/469 [==============================] - 3s 6ms/step - loss: 0.7384 - accuracy: 0.8407\n",
            "Epoch 9/10\n",
            "469/469 [==============================] - 3s 6ms/step - loss: 0.6881 - accuracy: 0.8480\n",
            "Epoch 10/10\n",
            "469/469 [==============================] - 3s 6ms/step - loss: 0.6476 - accuracy: 0.8533\n"
          ]
        }
      ]
    },
    {
      "cell_type": "code",
      "source": [
        "import numpy as np\n",
        "\n",
        "predictions = model.predict(x_test)\n",
        "predicted_labels = np.argmax(predictions, axis=1)\n",
        "matches = predicted_labels == y_test\n",
        "print(f\"Test accuracy: {matches.mean():.2f}\")"
      ],
      "metadata": {
        "colab": {
          "base_uri": "https://localhost:8080/"
        },
        "id": "bhz3jfqbCjgJ",
        "outputId": "11464e2c-81a0-452b-fe74-7839dd352b5f"
      },
      "execution_count": null,
      "outputs": [
        {
          "output_type": "stream",
          "name": "stdout",
          "text": [
            "Test accuracy: 0.86\n"
          ]
        }
      ]
    },
    {
      "cell_type": "markdown",
      "source": [
        "## Train a model using only Tensorflow"
      ],
      "metadata": {
        "id": "t_NIVg30FnjI"
      }
    },
    {
      "cell_type": "code",
      "source": [
        "import tensorflow as tf\n",
        "import math\n",
        "\n",
        "class BatchGenerator:\n",
        "  \"\"\"\n",
        "  Generate mini-batches\n",
        "  \"\"\"\n",
        "  def __init__(self, x, y, batch_size=128):\n",
        "    assert len(x) == len(y)\n",
        "    self.index = 0\n",
        "    self.x = x\n",
        "    self.y = y\n",
        "    self.batch_size = batch_size\n",
        "    self.num_batches = math.ceil(len(x)/batch_size)\n",
        "\n",
        "  def next(self):\n",
        "    x = self.x[self.index:self.index+self.batch_size]\n",
        "    y = self.y[self.index:self.index+self.batch_size]\n",
        "    self.index += self.batch_size\n",
        "    return x, y\n",
        "\n",
        "#------------------------------------------------------------\n",
        "\n",
        "\n",
        "class MyDense:\n",
        "\n",
        "  def __init__(self, n_nodes, activation):\n",
        "    self.n_nodes = n_nodes\n",
        "    self.activation = activation\n",
        "    self.W = None\n",
        "    self.b = None\n",
        "\n",
        "  def initialize_weights(self, input_size):\n",
        "    output_size = self.n_nodes\n",
        "    w_shape = (input_size, output_size)\n",
        "    w_init = tf.random.uniform(w_shape, minval=0, maxval=1e-1)\n",
        "    self.W = tf.Variable(w_init)\n",
        "\n",
        "    b_shape = (output_size,)\n",
        "    b_init = tf.zeros(b_shape)\n",
        "    self.b = tf.Variable(b_init)\n",
        "\n",
        "  @tf.function\n",
        "  def forward(self, inputs):\n",
        "    return self.activation(tf.matmul(inputs, self.W)+self.b)\n",
        "\n",
        "  @property  # return an tensorflow objects of properties\n",
        "  def weights(self):\n",
        "    return [self.W, self.b] \n",
        "\n",
        "  def output_size(self):\n",
        "    return self.n_nodes\n",
        "\n",
        "#------------------------------------------------------------\n",
        "\n",
        "class MyModel:\n",
        "\n",
        "  def __init__(self, layers):\n",
        "    self.layers = layers # a list of layer class instances, MyDense in this case\n",
        "    self.loss_function = None\n",
        "    self.learning_rate = None\n",
        "    self.weights = None\n",
        "  \n",
        "  def compile(self, loss_function, learning_rate, nn_input_size):\n",
        "    \"\"\"\n",
        "    Initialize weights for each layer\n",
        "    Automatically use the output_size of the previous layer as the input_size\n",
        "    \"\"\"\n",
        "    self.loss_function = loss_function\n",
        "    self.learning_rate = learning_rate\n",
        "\n",
        "    input_size = nn_input_size\n",
        "    for layer in self.layers:\n",
        "      layer.initialize_weights(input_size)\n",
        "      input_size = layer.output_size()\n",
        "\n",
        "    # Combine all the weights\n",
        "    self.weights = []\n",
        "    for layer in self.layers:\n",
        "      self.weights += layer.weights\n",
        "\n",
        "  # forward propagation through the network\n",
        "  def predict(self, inputs):\n",
        "    x = inputs\n",
        "    for layer in self.layers:\n",
        "      x = layer.forward(x)\n",
        "    return x\n",
        "\n",
        "  @tf.function\n",
        "  def one_batch_training(self, x_batch, y_batch):\n",
        "    # Forward propagation\n",
        "    with tf.GradientTape() as tape:\n",
        "      predictions = self.predict(x_batch)\n",
        "      per_sample_losses = self.loss_function(y_batch, predictions)\n",
        "      average_loss = tf.reduce_mean(per_sample_losses)\n",
        "\n",
        "    # Backward propagation\n",
        "    gradients = tape.gradient(average_loss, self.weights)\n",
        "    # Update weights using gradient descent\n",
        "    for g, w in zip(gradients, self.weights):\n",
        "      w.assign_sub(g*self.learning_rate)\n",
        "    \n",
        "    return average_loss\n",
        "\n",
        "  def fit(self, x, y, epochs, batch_size=128):\n",
        "    for epoch_counter in range(epochs):\n",
        "      # print(f\"Epoch {epoch_counter}\")\n",
        "      batch_generator = BatchGenerator(x, y, batch_size)\n",
        "\n",
        "      for batch_counter in range(batch_generator.num_batches):\n",
        "        x_batch, y_batch = batch_generator.next()\n",
        "        loss = self.one_batch_training(x_batch, y_batch)\n",
        "        if batch_counter == batch_generator.num_batches-1:\n",
        "          print(f\"Epoch {epoch_counter}/{epochs} - loss: {loss:.2f}\")\n",
        "          # print(f\"loss at batch {batch_counter}: {loss:.2f}\")\n",
        "\n",
        "\n"
      ],
      "metadata": {
        "id": "TGdXS08EFvAX"
      },
      "execution_count": null,
      "outputs": []
    },
    {
      "cell_type": "code",
      "source": [
        "model = MyModel([\n",
        "                 MyDense(512, activation=tf.nn.relu),\n",
        "                 MyDense(10, activation=tf.nn.softmax)\n",
        "])\n",
        "\n",
        "\n",
        "model.compile(tf.keras.metrics.sparse_categorical_crossentropy,\n",
        "              learning_rate=1e-3, \n",
        "              nn_input_size=28*28)\n",
        "\n",
        "history = model.fit(x_train, y_train, \n",
        "                    epochs=10, batch_size=128)"
      ],
      "metadata": {
        "colab": {
          "base_uri": "https://localhost:8080/"
        },
        "id": "ilBD9xzi36x6",
        "outputId": "5edf3b40-93e0-4184-edf3-a06f8f07a0ac"
      },
      "execution_count": null,
      "outputs": [
        {
          "output_type": "stream",
          "name": "stdout",
          "text": [
            "Epoch 0/10 - loss: 2.01\n",
            "Epoch 1/10 - loss: 1.75\n",
            "Epoch 2/10 - loss: 1.53\n",
            "Epoch 3/10 - loss: 1.35\n",
            "Epoch 4/10 - loss: 1.20\n",
            "Epoch 5/10 - loss: 1.09\n",
            "Epoch 6/10 - loss: 0.99\n",
            "Epoch 7/10 - loss: 0.92\n",
            "Epoch 8/10 - loss: 0.86\n",
            "Epoch 9/10 - loss: 0.80\n"
          ]
        }
      ]
    },
    {
      "cell_type": "code",
      "source": [
        "import numpy as np\n",
        "\n",
        "predictions = model.predict(x_test)\n",
        "predicted_labels = np.argmax(predictions, axis=1)\n",
        "matches = predicted_labels == y_test\n",
        "print(f\"Test accuracy: {matches.mean():.2f}\")"
      ],
      "metadata": {
        "colab": {
          "base_uri": "https://localhost:8080/"
        },
        "id": "jMTibMbRBKnn",
        "outputId": "e8af8a05-4a4b-44ad-de55-ccf97df7fac1"
      },
      "execution_count": null,
      "outputs": [
        {
          "output_type": "stream",
          "name": "stdout",
          "text": [
            "Test accuracy: 0.82\n"
          ]
        }
      ]
    },
    {
      "cell_type": "markdown",
      "source": [
        "## Comments\n",
        "\n",
        "Our implementation using only Tensorflow is worse than using Keras. The main reason is:\n",
        "- The optimizer SGD in keras is gradient descent with momentum\n",
        "- In the Tensorflow implementation, we only use the simple gradient descent algorithm (without momentum)."
      ],
      "metadata": {
        "id": "VCUyNBuRPkyW"
      }
    }
  ]
}
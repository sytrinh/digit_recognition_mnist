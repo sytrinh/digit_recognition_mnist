{
  "nbformat": 4,
  "nbformat_minor": 0,
  "metadata": {
    "colab": {
      "name": "CNN_4",
      "provenance": [],
      "collapsed_sections": [],
      "authorship_tag": "ABX9TyN+7qfjifJvTK/HreSlEyyo",
      "include_colab_link": true
    },
    "kernelspec": {
      "name": "python3",
      "display_name": "Python 3"
    },
    "language_info": {
      "name": "python"
    },
    "accelerator": "GPU"
  },
  "cells": [
    {
      "cell_type": "markdown",
      "metadata": {
        "id": "view-in-github",
        "colab_type": "text"
      },
      "source": [
        "<a href=\"https://colab.research.google.com/github/sytrinh/digit_recognition_mnist/blob/main/CNN.ipynb\" target=\"_parent\"><img src=\"https://colab.research.google.com/assets/colab-badge.svg\" alt=\"Open In Colab\"/></a>"
      ]
    },
    {
      "cell_type": "markdown",
      "source": [
        "Instead of a fully connected neural network like [here](https://github.com/sytrinh/digit_recognition_mnist/blob/main/FCNN.ipynb), we will train a convolutional neural network on MNIST dataset."
      ],
      "metadata": {
        "id": "g3SJ_gKFcRlg"
      }
    },
    {
      "cell_type": "code",
      "source": [
        "from tensorflow import keras\n",
        "from tensorflow.keras import layers\n",
        "from tensorflow.keras.datasets import mnist\n",
        "import numpy as np\n",
        "import matplotlib.pyplot as plt\n"
      ],
      "metadata": {
        "id": "2FGange9sfl3"
      },
      "execution_count": null,
      "outputs": []
    },
    {
      "cell_type": "code",
      "source": [
        "# Load data\n",
        "(train_images, train_labels), (test_images, test_labels) = mnist.load_data()\n",
        "unique_labels = np.unique(train_labels)\n",
        "print('Training set shape: {}'.format(train_images.shape))\n",
        "print('Test set shape: {}'.format(test_images.shape))\n",
        "print('Number of images in training set: {}'.format(train_images.shape[0]))\n",
        "print('Number of images in test set: {}'.format(test_images.shape[0]))\n",
        "print('Image size: {}'.format(train_images.shape[1:]))\n",
        "print('Unique labels: {}'.format(unique_labels))\n",
        "print('Number of unique labels: {}'.format(len(np.unique(train_labels))))\n",
        "\n"
      ],
      "metadata": {
        "colab": {
          "base_uri": "https://localhost:8080/"
        },
        "id": "-IHk0qa3wFPU",
        "outputId": "dea9f241-73cc-46b1-cecd-7e4786dbf7a4"
      },
      "execution_count": null,
      "outputs": [
        {
          "output_type": "stream",
          "name": "stdout",
          "text": [
            "Training set shape: (60000, 28, 28)\n",
            "Test set shape: (10000, 28, 28)\n",
            "Number of images in training set: 60000\n",
            "Number of images in test set: 10000\n",
            "Image size: (28, 28)\n",
            "Unique labels: [0 1 2 3 4 5 6 7 8 9]\n",
            "Number of unique labels: 10\n"
          ]
        }
      ]
    },
    {
      "cell_type": "code",
      "source": [
        "# reshape the images to (28, 28, 1)\n",
        "x_train = train_images.reshape((train_images.shape[0], *train_images.shape[1:], 1)).astype(\"float32\")\n",
        "x_test = test_images.reshape((test_images.shape[0], *test_images.shape[1:], 1)).astype(\"float32\")\n",
        "y_train = train_labels.copy()\n",
        "y_test = test_labels.copy()\n",
        "print('x_train shape: {}'.format(x_train.shape))\n",
        "print('x_test shape: {}'.format(x_test.shape))"
      ],
      "metadata": {
        "colab": {
          "base_uri": "https://localhost:8080/"
        },
        "id": "s1Z0xDhuydjS",
        "outputId": "6d75fcbc-ef88-486c-9c8c-dba683b78589"
      },
      "execution_count": null,
      "outputs": [
        {
          "output_type": "stream",
          "name": "stdout",
          "text": [
            "x_train shape: (60000, 28, 28, 1)\n",
            "x_test shape: (10000, 28, 28, 1)\n"
          ]
        }
      ]
    },
    {
      "cell_type": "code",
      "source": [
        "# Define a data augmentation stage to add to an image model\n",
        "data_augmentation = keras.Sequential([\n",
        "                                      # layers.RandomRotation(0.1),\n",
        "                                      layers.RandomWidth(0.2),\n",
        "                                      layers.RandomHeight(0.1),\n",
        "                                      layers.RandomZoom(0.2),\n",
        "                                      layers.Resizing(28,28)\n",
        "])"
      ],
      "metadata": {
        "id": "lvtj7D462jUt"
      },
      "execution_count": null,
      "outputs": []
    },
    {
      "cell_type": "code",
      "source": [
        "# Define a CNN model\n",
        "\n",
        "inputs = keras.Input(shape=(28,28,1))\n",
        "x = data_augmentation(inputs)\n",
        "x = layers.Rescaling(1./255)(x)\n",
        "x = layers.Conv2D(filters=32, kernel_size=3, activation='relu')(x)\n",
        "x = layers.MaxPooling2D(pool_size=2)(x)\n",
        "x = layers.Conv2D(filters=64, kernel_size=3, activation='relu')(x)\n",
        "x = layers.MaxPooling2D(pool_size=2)(x)\n",
        "x = layers.Conv2D(filters=128, kernel_size=3, activation='relu')(x)\n",
        "x = layers.BatchNormalization()(x)\n",
        "x = layers.Flatten()(x)\n",
        "x = layers.Dropout(0.4)(x)\n",
        "outputs = layers.Dense(10, activation='softmax')(x)\n",
        "\n",
        "model = keras.Model(inputs=inputs, outputs=outputs)\n",
        "model.summary()"
      ],
      "metadata": {
        "colab": {
          "base_uri": "https://localhost:8080/"
        },
        "id": "FLjTkcGzg2q5",
        "outputId": "034d1e31-15eb-46d4-f5ee-f560eb1052f3"
      },
      "execution_count": null,
      "outputs": [
        {
          "output_type": "stream",
          "name": "stdout",
          "text": [
            "Model: \"model_5\"\n",
            "_________________________________________________________________\n",
            " Layer (type)                Output Shape              Param #   \n",
            "=================================================================\n",
            " input_7 (InputLayer)        [(None, 28, 28, 1)]       0         \n",
            "                                                                 \n",
            " sequential_3 (Sequential)   (None, 28, 28, 1)         0         \n",
            "                                                                 \n",
            " rescaling_6 (Rescaling)     (None, 28, 28, 1)         0         \n",
            "                                                                 \n",
            " conv2d_18 (Conv2D)          (None, 26, 26, 32)        320       \n",
            "                                                                 \n",
            " max_pooling2d_12 (MaxPoolin  (None, 13, 13, 32)       0         \n",
            " g2D)                                                            \n",
            "                                                                 \n",
            " conv2d_19 (Conv2D)          (None, 11, 11, 64)        18496     \n",
            "                                                                 \n",
            " max_pooling2d_13 (MaxPoolin  (None, 5, 5, 64)         0         \n",
            " g2D)                                                            \n",
            "                                                                 \n",
            " conv2d_20 (Conv2D)          (None, 3, 3, 128)         73856     \n",
            "                                                                 \n",
            " batch_normalization_5 (Batc  (None, 3, 3, 128)        512       \n",
            " hNormalization)                                                 \n",
            "                                                                 \n",
            " flatten_6 (Flatten)         (None, 1152)              0         \n",
            "                                                                 \n",
            " dropout_6 (Dropout)         (None, 1152)              0         \n",
            "                                                                 \n",
            " dense_6 (Dense)             (None, 10)                11530     \n",
            "                                                                 \n",
            "=================================================================\n",
            "Total params: 104,714\n",
            "Trainable params: 104,458\n",
            "Non-trainable params: 256\n",
            "_________________________________________________________________\n"
          ]
        }
      ]
    },
    {
      "cell_type": "code",
      "source": [
        "callbacks_list = [\n",
        "  keras.callbacks.EarlyStopping(\n",
        "                monitor=\"val_accuracy\", # Monitors the model’s validation accuracy\n",
        "                patience=10), # Interrupts training when accuracy has stopped improving for two epochs\n",
        "  keras.callbacks.ModelCheckpoint(\n",
        "                 filepath=\"mist_cnn_augmentation_2.keras\",\n",
        "                 save_best_only=True,\n",
        "                 monitor=\"val_loss\")\n",
        "  ]\n",
        "\n",
        "opt = keras.optimizers.Adam(learning_rate=1e-4)\n",
        "model.compile(optimizer=opt,\n",
        "              loss=\"sparse_categorical_crossentropy\",\n",
        "              metrics=[\"accuracy\"])\n",
        "\n",
        "history = model.fit(x_train, y_train, epochs=50, batch_size=64,\n",
        "          callbacks=callbacks_list,\n",
        "          validation_split=0.1,\n",
        "          verbose=1)"
      ],
      "metadata": {
        "colab": {
          "base_uri": "https://localhost:8080/"
        },
        "id": "ocy_LgLZ7ZXn",
        "outputId": "007a52db-2693-4566-bf70-61441774f114"
      },
      "execution_count": null,
      "outputs": [
        {
          "output_type": "stream",
          "name": "stdout",
          "text": [
            "Epoch 1/50\n",
            "844/844 [==============================] - 5s 6ms/step - loss: 0.3831 - accuracy: 0.8847 - val_loss: 0.0769 - val_accuracy: 0.9783\n",
            "Epoch 2/50\n",
            "844/844 [==============================] - 4s 5ms/step - loss: 0.1168 - accuracy: 0.9648 - val_loss: 0.0574 - val_accuracy: 0.9820\n",
            "Epoch 3/50\n",
            "844/844 [==============================] - 4s 5ms/step - loss: 0.0846 - accuracy: 0.9737 - val_loss: 0.0460 - val_accuracy: 0.9867\n",
            "Epoch 4/50\n",
            "844/844 [==============================] - 5s 5ms/step - loss: 0.0696 - accuracy: 0.9785 - val_loss: 0.0397 - val_accuracy: 0.9890\n",
            "Epoch 5/50\n",
            "844/844 [==============================] - 4s 5ms/step - loss: 0.0595 - accuracy: 0.9817 - val_loss: 0.0388 - val_accuracy: 0.9900\n",
            "Epoch 6/50\n",
            "844/844 [==============================] - 5s 5ms/step - loss: 0.0537 - accuracy: 0.9834 - val_loss: 0.0536 - val_accuracy: 0.9832\n",
            "Epoch 7/50\n",
            "844/844 [==============================] - 4s 5ms/step - loss: 0.0490 - accuracy: 0.9847 - val_loss: 0.0366 - val_accuracy: 0.9902\n",
            "Epoch 8/50\n",
            "844/844 [==============================] - 4s 5ms/step - loss: 0.0435 - accuracy: 0.9865 - val_loss: 0.0357 - val_accuracy: 0.9900\n",
            "Epoch 9/50\n",
            "844/844 [==============================] - 4s 5ms/step - loss: 0.0414 - accuracy: 0.9872 - val_loss: 0.0306 - val_accuracy: 0.9922\n",
            "Epoch 10/50\n",
            "844/844 [==============================] - 4s 5ms/step - loss: 0.0381 - accuracy: 0.9879 - val_loss: 0.0375 - val_accuracy: 0.9902\n",
            "Epoch 11/50\n",
            "844/844 [==============================] - 4s 5ms/step - loss: 0.0357 - accuracy: 0.9892 - val_loss: 0.0341 - val_accuracy: 0.9915\n",
            "Epoch 12/50\n",
            "844/844 [==============================] - 4s 5ms/step - loss: 0.0333 - accuracy: 0.9892 - val_loss: 0.0321 - val_accuracy: 0.9920\n",
            "Epoch 13/50\n",
            "844/844 [==============================] - 4s 5ms/step - loss: 0.0332 - accuracy: 0.9900 - val_loss: 0.0306 - val_accuracy: 0.9930\n",
            "Epoch 14/50\n",
            "844/844 [==============================] - 4s 5ms/step - loss: 0.0325 - accuracy: 0.9894 - val_loss: 0.0302 - val_accuracy: 0.9915\n",
            "Epoch 15/50\n",
            "844/844 [==============================] - 4s 5ms/step - loss: 0.0291 - accuracy: 0.9908 - val_loss: 0.0307 - val_accuracy: 0.9913\n",
            "Epoch 16/50\n",
            "844/844 [==============================] - 4s 5ms/step - loss: 0.0282 - accuracy: 0.9909 - val_loss: 0.0321 - val_accuracy: 0.9922\n",
            "Epoch 17/50\n",
            "844/844 [==============================] - 4s 5ms/step - loss: 0.0279 - accuracy: 0.9913 - val_loss: 0.0311 - val_accuracy: 0.9917\n",
            "Epoch 18/50\n",
            "844/844 [==============================] - 5s 5ms/step - loss: 0.0250 - accuracy: 0.9920 - val_loss: 0.0292 - val_accuracy: 0.9922\n",
            "Epoch 19/50\n",
            "844/844 [==============================] - 4s 5ms/step - loss: 0.0239 - accuracy: 0.9925 - val_loss: 0.0311 - val_accuracy: 0.9925\n",
            "Epoch 20/50\n",
            "844/844 [==============================] - 4s 5ms/step - loss: 0.0233 - accuracy: 0.9926 - val_loss: 0.0269 - val_accuracy: 0.9927\n",
            "Epoch 21/50\n",
            "844/844 [==============================] - 4s 5ms/step - loss: 0.0237 - accuracy: 0.9923 - val_loss: 0.0261 - val_accuracy: 0.9927\n",
            "Epoch 22/50\n",
            "844/844 [==============================] - 4s 5ms/step - loss: 0.0219 - accuracy: 0.9931 - val_loss: 0.0261 - val_accuracy: 0.9938\n",
            "Epoch 23/50\n",
            "844/844 [==============================] - 4s 5ms/step - loss: 0.0217 - accuracy: 0.9927 - val_loss: 0.0268 - val_accuracy: 0.9932\n",
            "Epoch 24/50\n",
            "844/844 [==============================] - 4s 5ms/step - loss: 0.0193 - accuracy: 0.9937 - val_loss: 0.0257 - val_accuracy: 0.9935\n",
            "Epoch 25/50\n",
            "844/844 [==============================] - 4s 5ms/step - loss: 0.0190 - accuracy: 0.9936 - val_loss: 0.0283 - val_accuracy: 0.9925\n",
            "Epoch 26/50\n",
            "844/844 [==============================] - 4s 5ms/step - loss: 0.0189 - accuracy: 0.9939 - val_loss: 0.0292 - val_accuracy: 0.9923\n",
            "Epoch 27/50\n",
            "844/844 [==============================] - 4s 5ms/step - loss: 0.0175 - accuracy: 0.9944 - val_loss: 0.0267 - val_accuracy: 0.9935\n",
            "Epoch 28/50\n",
            "844/844 [==============================] - 4s 5ms/step - loss: 0.0179 - accuracy: 0.9940 - val_loss: 0.0304 - val_accuracy: 0.9923\n",
            "Epoch 29/50\n",
            "844/844 [==============================] - 4s 5ms/step - loss: 0.0177 - accuracy: 0.9941 - val_loss: 0.0301 - val_accuracy: 0.9928\n",
            "Epoch 30/50\n",
            "844/844 [==============================] - 4s 5ms/step - loss: 0.0164 - accuracy: 0.9947 - val_loss: 0.0289 - val_accuracy: 0.9940\n",
            "Epoch 31/50\n",
            "844/844 [==============================] - 4s 5ms/step - loss: 0.0161 - accuracy: 0.9946 - val_loss: 0.0260 - val_accuracy: 0.9947\n",
            "Epoch 32/50\n",
            "844/844 [==============================] - 4s 5ms/step - loss: 0.0149 - accuracy: 0.9951 - val_loss: 0.0269 - val_accuracy: 0.9933\n",
            "Epoch 33/50\n",
            "844/844 [==============================] - 4s 5ms/step - loss: 0.0160 - accuracy: 0.9949 - val_loss: 0.0274 - val_accuracy: 0.9940\n",
            "Epoch 34/50\n",
            "844/844 [==============================] - 4s 5ms/step - loss: 0.0141 - accuracy: 0.9954 - val_loss: 0.0303 - val_accuracy: 0.9928\n",
            "Epoch 35/50\n",
            "844/844 [==============================] - 4s 5ms/step - loss: 0.0139 - accuracy: 0.9958 - val_loss: 0.0291 - val_accuracy: 0.9922\n",
            "Epoch 36/50\n",
            "844/844 [==============================] - 4s 5ms/step - loss: 0.0144 - accuracy: 0.9950 - val_loss: 0.0375 - val_accuracy: 0.9915\n",
            "Epoch 37/50\n",
            "844/844 [==============================] - 4s 5ms/step - loss: 0.0135 - accuracy: 0.9955 - val_loss: 0.0293 - val_accuracy: 0.9930\n",
            "Epoch 38/50\n",
            "844/844 [==============================] - 4s 5ms/step - loss: 0.0128 - accuracy: 0.9959 - val_loss: 0.0300 - val_accuracy: 0.9945\n",
            "Epoch 39/50\n",
            "844/844 [==============================] - 4s 5ms/step - loss: 0.0133 - accuracy: 0.9956 - val_loss: 0.0258 - val_accuracy: 0.9942\n",
            "Epoch 40/50\n",
            "844/844 [==============================] - 4s 5ms/step - loss: 0.0128 - accuracy: 0.9957 - val_loss: 0.0256 - val_accuracy: 0.9942\n",
            "Epoch 41/50\n",
            "844/844 [==============================] - 5s 5ms/step - loss: 0.0125 - accuracy: 0.9958 - val_loss: 0.0250 - val_accuracy: 0.9942\n"
          ]
        }
      ]
    },
    {
      "cell_type": "code",
      "source": [
        "\n",
        "fig, ax = plt.subplots(1,2,figsize=(12,5))\n",
        "\n",
        "ax[0].plot(history.history[\"loss\"], label=\"Training loss\")\n",
        "ax[0].plot(history.history[\"val_loss\"], label=\"Validation loss\")\n",
        "ax[0].legend()\n",
        "\n",
        "\n",
        "ax[1].plot(history.history[\"accuracy\"], label=\"Training accuracy\")\n",
        "ax[1].plot(history.history[\"val_accuracy\"], label=\"Validation accuracy\")\n",
        "ax[1].legend()\n",
        "\n",
        "plt.show()\n"
      ],
      "metadata": {
        "colab": {
          "base_uri": "https://localhost:8080/",
          "height": 323
        },
        "id": "0ElboXQ-nb79",
        "outputId": "e002b469-e0c3-4eab-af9f-4a42416a87e3"
      },
      "execution_count": null,
      "outputs": [
        {
          "output_type": "display_data",
          "data": {
            "text/plain": [
              "<Figure size 864x360 with 2 Axes>"
            ],
            "image/png": "[encoded data removed]"
          },
          "metadata": {
            "needs_background": "light"
          }
        }
      ]
    },
    {
      "cell_type": "code",
      "source": [
        "test_loss, test_acc = model.evaluate(x_test, y_test)\n",
        "print(f\"Test accuracy: {test_acc:.3f}\")"
      ],
      "metadata": {
        "colab": {
          "base_uri": "https://localhost:8080/"
        },
        "id": "dTifu6AA7keI",
        "outputId": "52856933-a95e-4a3d-d77e-42d140fc5eb2"
      },
      "execution_count": null,
      "outputs": [
        {
          "output_type": "stream",
          "name": "stdout",
          "text": [
            "313/313 [==============================] - 1s 3ms/step - loss: 0.0203 - accuracy: 0.9947\n",
            "Test accuracy: 0.995\n"
          ]
        }
      ]
    },
    {
      "cell_type": "code",
      "source": [
        "best_model = keras.models.load_model(\"mist_cnn_augmentation_2.keras\")"
      ],
      "metadata": {
        "id": "g5vmpJ14pcvi"
      },
      "execution_count": null,
      "outputs": []
    },
    {
      "cell_type": "code",
      "source": [
        "def get_wrong_labels(y_pred, y_true):\n",
        "    for i  in range(len(y_pred)):\n",
        "        if np.argmax(y_pred[i]) != np.argmax(y_true[i]):\n",
        "            yield i\n",
        "\n",
        "y_pred = best_model.predict(x_test)\n",
        "\n",
        "gen = get_wrong_labels(y_pred, y_test)"
      ],
      "metadata": {
        "id": "R3J02TKepw0M"
      },
      "execution_count": null,
      "outputs": []
    },
    {
      "cell_type": "code",
      "source": [
        "index = next(gen)\n",
        "\n",
        "\n",
        "fig, ax = plt.subplots(1,2,figsize=(12,5))\n",
        "\n",
        "image = np.reshape(x_test[index],(28,28))\n",
        "true_label = np.argmax(y_pred[index])\n",
        "predicted_label = np.argmax(y_pred[index])\n",
        "ax[0].imshow(image, cmap='binary')\n",
        "ax[0].set_xticks([])\n",
        "ax[0].set_yticks([])\n",
        "\n",
        "bar = ax[1].bar(range(10), y_pred[index],color='#777777')\n",
        "bar[true_label].set_color('blue')\n",
        "bar[true_label].set_label('true label')\n",
        "bar[predicted_label].set_color('red')\n",
        "bar[predicted_label].set_label('predicted label')\n",
        "ax[1].set_xticks(range(10))\n",
        "ax[1].set_title(\"predicted probabilities\")\n",
        "ax[1].set_ylim([0,1])\n",
        "plt.legend()\n",
        "plt.show()"
      ],
      "metadata": {
        "colab": {
          "base_uri": "https://localhost:8080/",
          "height": 336
        },
        "id": "LKLa-0M_qKd5",
        "outputId": "03ab1db1-0e92-46da-9fd1-a63a51e033c0"
      },
      "execution_count": null,
      "outputs": [
        {
          "output_type": "display_data",
          "data": {
            "text/plain": [
              "<Figure size 864x360 with 2 Axes>"
            ],
            "image/png": "[encoded data removed]"
          },
          "metadata": {
            "needs_background": "light"
          }
        }
      ]
    }
  ]
}